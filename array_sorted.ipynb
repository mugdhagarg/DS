{
 "cells": [
  {
   "cell_type": "code",
   "execution_count": 1,
   "metadata": {},
   "outputs": [
    {
     "name": "stdout",
     "output_type": "stream",
     "text": [
      "Index of the element is :  8\n"
     ]
    }
   ],
   "source": [
    "def findPivot(arr, low, high):\n",
    "    if low > high:\n",
    "        return -1\n",
    "    if low == high:\n",
    "        return low\n",
    "\n",
    "    mid = int((low+high)/2)\n",
    "    if mid < high and arr[mid] > arr[mid+1]:\n",
    "        return mid\n",
    "    if mid > low and arr[mid] < arr[mid-1]:\n",
    "        return mid-1\n",
    "\n",
    "    if arr[mid] < arr[low]:\n",
    "        return findPivot(arr,low,mid-1)\n",
    "    else:\n",
    "        return findPivot(arr,mid+1,high)\n",
    "\n",
    "\n",
    "def binarySearch(arr, low, high, key):\n",
    "    if low > high:\n",
    "        return -1\n",
    "\n",
    "    mid = int((low+high)/2)\n",
    "    if arr[mid] == key:\n",
    "        return mid\n",
    "    if arr[mid] > arr[low]:\n",
    "        return binarySearch(arr,mid+1,high,key)\n",
    "    else:\n",
    "        return binarySearch(arr,low,mid-1,key)\n",
    "\n",
    "\n",
    "\n",
    "\n",
    "\n",
    "def pivotedBinarySearch(arr, l, key):\n",
    "    pivot = findPivot(arr,0,l-1)\n",
    "    result = binarySearch(arr,0,pivot,key)\n",
    "    if result != -1:\n",
    "        return result\n",
    "    else:\n",
    "        return binarySearch(arr,pivot+1,l,key)\n",
    "\n",
    "\n",
    "\n",
    "\n",
    "arr1 = [5, 6, 7, 8, 9, 10, 1, 2, 3]\n",
    "n = len(arr1)\n",
    "key = 3\n",
    "print(\"Index of the element is : \",\n",
    "      pivotedBinarySearch(arr1, n, key))"
   ]
  },
  {
   "cell_type": "code",
   "execution_count": null,
   "metadata": {},
   "outputs": [],
   "source": []
  }
 ],
 "metadata": {
  "kernelspec": {
   "display_name": "Python 3",
   "language": "python",
   "name": "python3"
  },
  "language_info": {
   "codemirror_mode": {
    "name": "ipython",
    "version": 3
   },
   "file_extension": ".py",
   "mimetype": "text/x-python",
   "name": "python",
   "nbconvert_exporter": "python",
   "pygments_lexer": "ipython3",
   "version": "3.8.5"
  }
 },
 "nbformat": 4,
 "nbformat_minor": 4
}
